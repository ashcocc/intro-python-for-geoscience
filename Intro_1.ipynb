{
  "cells": [
    {
      "cell_type": "markdown",
      "metadata": {
        "id": "PA6vNjauFUfx"
      },
      "source": [
        "# Introduction to Python 1 for the curious geoscientist\n",
        "#### By A. N. Cocciadiferro\n",
        "\n",
        "Welcome to the first notebook in a series I have created to help beginner programmers from various science disciplines learn a bit of Python. I specifically call this series, \"... for the curious geoscientist\" because I myself was educated in geoscience, but these notebooks can be used by anyone.\n",
        "\n",
        "This first notebook will focus on a few different datatypes in python using some silly examples. This is not an extensive coverage of all of Python's built in data types.\n",
        "\n",
        "This notebook is a work in progress and will be edited and modified as needed."
      ]
    },
    {
      "cell_type": "markdown",
      "metadata": {
        "id": "SbthbRgGF73c"
      },
      "source": [
        "## 1. Strings\n",
        "\n",
        "Strings are just text (e.g. words or sentences). Strings in Python have a few methods, or functions that operate on that type, that may be useful to you. A few examples are shown below in the following codeblock."
      ]
    },
    {
      "cell_type": "code",
      "execution_count": null,
      "metadata": {
        "colab": {
          "base_uri": "https://localhost:8080/",
          "height": 35
        },
        "id": "nMmN6N3zFIn0",
        "outputId": "5a6a1e66-f6ff-4ab9-9f09-00decbed326a"
      },
      "outputs": [],
      "source": [
        "# create a string\n",
        "my_string = \"I'm a geologist!\"\n",
        "\n",
        "# create 2 new strings\n",
        "my_string_1 = \"Rocks are not \"\n",
        "my_string_2 = \"for jocks!\"\n",
        "\n",
        "# use the + operator to concatenate these two strings\n",
        "my_string_3 = my_string_1 + my_string_2\n",
        "\n",
        "# display my_string_3\n",
        "my_string_3"
      ]
    },
    {
      "cell_type": "markdown",
      "metadata": {
        "id": "tzlgSe6SGz7p"
      },
      "source": [
        "Python also offers a feature called formatted string literals, or f-strings. This feature allows you to insert strings that are assigned to other variables into the middle of an existing string. The pattern is shown below.\n",
        "\n",
        "You can change the value of `obj`, `person_1`, or `person_2` without having to re-write the entire string. This can be useful for a variety of tasks, like sample naming, for example."
      ]
    },
    {
      "cell_type": "code",
      "execution_count": null,
      "metadata": {
        "colab": {
          "base_uri": "https://localhost:8080/",
          "height": 35
        },
        "id": "oOORftdkGxq2",
        "outputId": "ada13b55-56e6-4421-97bd-f9c76b77e069"
      },
      "outputs": [],
      "source": [
        "# create string variables\n",
        "obj = \"Rocks\"\n",
        "person_1 = \"jocks\"\n",
        "person_2 = \"nerds\"\n",
        "\n",
        "# create f string\n",
        "f_string = f\"{obj} are not for {person_1}, instead, they are for {person_2}!\"\n",
        "\n",
        "# display f string\n",
        "f_string"
      ]
    },
    {
      "cell_type": "markdown",
      "metadata": {
        "id": "d2TRpVkyH63w"
      },
      "source": [
        "## 2. Integers\n",
        "\n",
        "Integers are numbers without decimal places, just like normal math-y integers. When you add, subtract, multiply or specifically use the integer divide operator, the resulting output will be another integer.\n",
        "\n",
        "The integer divide operator `//` will floor output of the division.\n",
        "\n",
        "Another interesting operator is the modulo operator `%`. This will return the remainder of the division between the two numbers. An example is shown below."
      ]
    },
    {
      "cell_type": "code",
      "execution_count": null,
      "metadata": {
        "colab": {
          "base_uri": "https://localhost:8080/",
          "height": 35
        },
        "id": "kiV9OrpfJDrJ",
        "outputId": "0b1cb341-7f51-49a6-b8dc-a8267199914e"
      },
      "outputs": [],
      "source": [
        "# create two integers\n",
        "a = 1\n",
        "b = 5\n",
        "\n",
        "# add two integers\n",
        "addition = a + b\n",
        "\n",
        "# multiply two integers\n",
        "multiply = a * b\n",
        "\n",
        "# integer divide\n",
        "int_division = a // b\n",
        "\n",
        "# modulo\n",
        "modulo = b % a\n",
        "\n",
        "output = f\"When adding {a} and {b} we get {addition}. When we multiply, we get {multiply}. Then when we divide, we get {int_division}. Last, we use the modulo operator to get {modulo}.\"\n",
        "\n",
        "output"
      ]
    },
    {
      "cell_type": "markdown",
      "metadata": {
        "id": "tEzDZ0wbPMGR"
      },
      "source": [
        "## 3. Floats\n",
        "\n",
        "Floats are numbers with decimals. They use virtually all the same methods as integers. It is important to note though, that float division uses the operator `/` as opposed to the double-slash.\n",
        "\n",
        "Below are some simple arithmetic operations using floats."
      ]
    },
    {
      "cell_type": "code",
      "execution_count": null,
      "metadata": {
        "colab": {
          "base_uri": "https://localhost:8080/",
          "height": 35
        },
        "id": "wDdylcEJPkEN",
        "outputId": "ece7c772-7693-4347-faa3-678612959f7b"
      },
      "outputs": [],
      "source": [
        "from os import X_OK\n",
        "# create a new float\n",
        "x = 3.1415\n",
        "\n",
        "# create another float\n",
        "y = 2.529574\n",
        "\n",
        "# add them together\n",
        "add = x + y\n",
        "\n",
        "# multiply them\n",
        "mult = x * y\n",
        "\n",
        "# divide them\n",
        "div = x / y\n",
        "\n",
        "# create output string\n",
        "output = f\"We can add two floats {x} and {y} to get {add}. We get {mult} if we multiply them, and {div} if we divide them.\"\n",
        "\n",
        "# display output\n",
        "output"
      ]
    },
    {
      "cell_type": "markdown",
      "metadata": {
        "id": "UAFCN_jhMemD"
      },
      "source": [
        "## 4. Lists\n",
        "\n",
        "Lists are arrays of objects. They are marked by square brackets `[]`. Lists can contain virtually any number of objects, and can be accessed randomly by using that objects index.\n",
        "\n",
        "There are several useful list methods, which are shown below. Using the `+` operator, we can concatenate two lists together. This is basically just adding the contents of the second list onto the end of the first list."
      ]
    },
    {
      "cell_type": "code",
      "execution_count": null,
      "metadata": {
        "colab": {
          "base_uri": "https://localhost:8080/"
        },
        "id": "85ja16GFMvDb",
        "outputId": "a2ad8977-3920-44d5-a38d-ad0c7e38b5e2"
      },
      "outputs": [],
      "source": [
        "# create an empty list\n",
        "my_list = [\"rock\"]\n",
        "\n",
        "# create another list\n",
        "my_new_list = [\"igneous\"]\n",
        "\n",
        "# concatenate two lists\n",
        "concatenated_list = my_new_list + my_list\n",
        "\n",
        "# display concatenated list\n",
        "concatenated_list"
      ]
    },
    {
      "cell_type": "markdown",
      "metadata": {
        "id": "gf2vBcoBN6TB"
      },
      "source": [
        "Another useful list method is the append method. This adds a single new object onto the end of the list. Append must be called each time you want to add an object to the end of the list."
      ]
    },
    {
      "cell_type": "code",
      "execution_count": null,
      "metadata": {
        "colab": {
          "base_uri": "https://localhost:8080/"
        },
        "id": "itoVN93VNAaf",
        "outputId": "0e43832a-4703-4387-8c63-006bfac20a92"
      },
      "outputs": [],
      "source": [
        "# create an empty list\n",
        "list_1 = []\n",
        "\n",
        "# append a new value to the end\n",
        "list_1.append(\"igneous\")\n",
        "list_1.append(\"metamorphic\")\n",
        "\n",
        "# display list_1\n",
        "list_1"
      ]
    },
    {
      "cell_type": "markdown",
      "metadata": {
        "id": "vVIME0t4OLUe"
      },
      "source": [
        "A third useful list method is the insert method. We can insert an object anywhere inside the list, provided that index is in bounds. Python indexes from 0, so if you count the number of objects in the list, subtract 1 to get the index."
      ]
    },
    {
      "cell_type": "code",
      "execution_count": null,
      "metadata": {
        "colab": {
          "base_uri": "https://localhost:8080/"
        },
        "id": "-r6PqskONP8X",
        "outputId": "5ec6b57e-1c52-4b8c-86bf-6d7510f92b68"
      },
      "outputs": [],
      "source": [
        "# create an empty list\n",
        "list_2 = []\n",
        "\n",
        "# append a new value to the end\n",
        "list_2.append(\"igneous\")\n",
        "list_2.append(\"metamorphic\")\n",
        "\n",
        "# insert into the spot before index 1\n",
        "list_2.insert(1, \"sedementary\")\n",
        "\n",
        "# display list_1\n",
        "list_2"
      ]
    },
    {
      "cell_type": "markdown",
      "metadata": {
        "id": "AGM4rQPUOjFR"
      },
      "source": [
        "So how would we access a particular value in a list? We simply use square brackets!"
      ]
    },
    {
      "cell_type": "code",
      "execution_count": null,
      "metadata": {
        "colab": {
          "base_uri": "https://localhost:8080/",
          "height": 35
        },
        "id": "wxkB0uL2Oq63",
        "outputId": "24a2ecc6-18ac-4865-8f1e-9ac05bb4e3a9"
      },
      "outputs": [],
      "source": [
        "# create a new list\n",
        "list_3 = [\"igneous\", \"metamorphic\", \"sedementary\"]\n",
        "\n",
        "# access a value\n",
        "my_rock_type = list_3[1]\n",
        "\n",
        "# display rock type\n",
        "my_rock_type"
      ]
    },
    {
      "cell_type": "markdown",
      "metadata": {
        "id": "T2dr8a71O82d"
      },
      "source": [
        "## 5. Dictionaries\n",
        "\n",
        "Dictionaries contain key-value pairs. Keys must be an immutable (or unchangeable) data type. Immutable data types include strings, tuples (not covered here), integers, or floats to name a few. A list, for example, cannot be a key in a dictionary, because we can add, or append, new values to that list. While strings appear to have this behavior, they are actually reassigned each time a change is made."
      ]
    },
    {
      "cell_type": "code",
      "execution_count": null,
      "metadata": {
        "colab": {
          "base_uri": "https://localhost:8080/"
        },
        "id": "vFCUZP2ylRS7",
        "outputId": "5c9afac3-3fc7-4a77-9330-b4b26eb1952c"
      },
      "outputs": [],
      "source": [
        "# create an empty dictionary\n",
        "my_dict = {}\n",
        "\n",
        "# add a new key value pair\n",
        "my_dict[\"my_rock\"] = \"igneous\"\n",
        "my_dict[\"another_rock\"] = \"sedementary\"\n",
        "\n",
        "# display my dict\n",
        "my_dict"
      ]
    },
    {
      "cell_type": "markdown",
      "metadata": {
        "id": "onRgXqkFmx3-"
      },
      "source": [
        "Let's access a value in a dictionary."
      ]
    },
    {
      "cell_type": "code",
      "execution_count": null,
      "metadata": {
        "colab": {
          "base_uri": "https://localhost:8080/",
          "height": 35
        },
        "id": "FbkFJ3G8llB4",
        "outputId": "5326c14a-9e41-4591-eb02-f04ed307b737"
      },
      "outputs": [],
      "source": [
        "# access a value in the dict\n",
        "my_rock_type = my_dict[\"my_rock\"]\n",
        "\n",
        "# display that value\n",
        "my_rock_type"
      ]
    },
    {
      "cell_type": "markdown",
      "metadata": {
        "id": "IF16HLjTPEPk"
      },
      "source": [
        "## 6. Sets\n",
        "\n",
        "Sets contain unique values. Notice below that if we try to add the same value to the set twice, a replicate will not be stored. This behavior can come in handy for particular algorithms."
      ]
    },
    {
      "cell_type": "code",
      "execution_count": null,
      "metadata": {
        "colab": {
          "base_uri": "https://localhost:8080/"
        },
        "id": "b9LVaQlNlw45",
        "outputId": "e7defba8-ea5f-433c-eb81-f774c66bfcda"
      },
      "outputs": [],
      "source": [
        "# create an empty set\n",
        "my_set = set()\n",
        "\n",
        "# add values to the set\n",
        "my_set.add(\"igneous\")\n",
        "my_set.add(\"sedementary\")\n",
        "my_set.add(\"sedementary\")\n",
        "\n",
        "# display the set\n",
        "my_set"
      ]
    },
    {
      "cell_type": "markdown",
      "metadata": {
        "id": "uhKqmx-LQ_ZQ"
      },
      "source": [
        "## 7. Booleans\n",
        "\n",
        "Booleans are simply `True` or `False` values. This data type will come in handy when we get to the notebook on conditional statements. The `type()` function below is a handy built in function that tells us the data type of our object."
      ]
    },
    {
      "cell_type": "code",
      "execution_count": null,
      "metadata": {
        "colab": {
          "base_uri": "https://localhost:8080/"
        },
        "id": "2S-Yw05Km8fR",
        "outputId": "a983a5c0-44c3-4d9f-eb4f-ffbba970c17a"
      },
      "outputs": [],
      "source": [
        "# create a new boolean\n",
        "my_bool = True\n",
        "\n",
        "# display bool type\n",
        "type(my_bool)"
      ]
    },
    {
      "cell_type": "markdown",
      "metadata": {
        "id": "HqqykUjznRlx"
      },
      "source": [
        "Expressions can evaluate to boolean values as shown below."
      ]
    },
    {
      "cell_type": "code",
      "execution_count": null,
      "metadata": {
        "colab": {
          "base_uri": "https://localhost:8080/"
        },
        "id": "0EWOKa6DnMrU",
        "outputId": "81dea386-89fe-47a2-f0ac-a7a7da5fb17f"
      },
      "outputs": [],
      "source": [
        "# create new expression\n",
        "exp = 2 == 2\n",
        "\n",
        "# display exp type\n",
        "type(exp)"
      ]
    }
  ],
  "metadata": {
    "colab": {
      "provenance": [],
      "toc_visible": true
    },
    "kernelspec": {
      "display_name": "Python 3",
      "name": "python3"
    },
    "language_info": {
      "codemirror_mode": {
        "name": "ipython",
        "version": 3
      },
      "file_extension": ".py",
      "mimetype": "text/x-python",
      "name": "python",
      "nbconvert_exporter": "python",
      "pygments_lexer": "ipython3",
      "version": "3.10.4"
    }
  },
  "nbformat": 4,
  "nbformat_minor": 0
}
